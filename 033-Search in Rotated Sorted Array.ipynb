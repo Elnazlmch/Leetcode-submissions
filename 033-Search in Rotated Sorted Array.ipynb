{
  "nbformat": 4,
  "nbformat_minor": 0,
  "metadata": {
    "colab": {
      "provenance": [],
      "authorship_tag": "ABX9TyOQ1F4cQwjLsfsW3LoCOvSm"
    },
    "kernelspec": {
      "name": "python3",
      "display_name": "Python 3"
    },
    "language_info": {
      "name": "python"
    }
  },
  "cells": [
    {
      "cell_type": "markdown",
      "source": [
        "**33. Search in Rotated Sorted Array**\n",
        "\n",
        "There is an integer array nums sorted in ascending order (with distinct values).\n",
        "\n",
        "Prior to being passed to your function, nums is possibly rotated at an unknown pivot index k (1 <= k < nums.length) such that the resulting array is [nums[k], nums[k+1], ..., nums[n-1], nums[0], nums[1], ..., nums[k-1]] (0-indexed). For example, [0,1,2,4,5,6,7] might be rotated at pivot index 3 and become [4,5,6,7,0,1,2].\n",
        "\n",
        "Given the array nums after the possible rotation and an integer target, return the index of target if it is in nums, or -1 if it is not in nums.\n",
        "\n",
        "You must write an algorithm with O(log n) runtime complexity."
      ],
      "metadata": {
        "id": "Eq1jAZSXFe1n"
      }
    },
    {
      "cell_type": "code",
      "source": [
        "class Solution:\n",
        "    def search(self, nums: List[int], target: int) -> int:\n",
        "        left = 0\n",
        "        right = len(nums) - 1\n",
        "\n",
        "        while left <= right:\n",
        "            mid = (left + right) // 2\n",
        "            if nums[mid] == target:\n",
        "                return mid\n",
        "\n",
        "            # right sorted position\n",
        "            if nums[mid] < nums[right]:\n",
        "                if target > nums[right] or nums[mid] > target:\n",
        "                    right = mid - 1\n",
        "                else:\n",
        "                    left = mid + 1\n",
        "            # left sorted position\n",
        "            else:\n",
        "                if target < nums[left] or nums[mid] < target:\n",
        "                    left = mid + 1\n",
        "                else:\n",
        "                    right = mid - 1\n",
        "\n",
        "        return -1"
      ],
      "metadata": {
        "id": "l4WNVe7GGtxO"
      },
      "execution_count": null,
      "outputs": []
    }
  ]
}
