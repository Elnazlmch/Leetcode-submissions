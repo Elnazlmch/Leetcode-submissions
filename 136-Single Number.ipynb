{
  "nbformat": 4,
  "nbformat_minor": 0,
  "metadata": {
    "colab": {
      "provenance": [],
      "authorship_tag": "ABX9TyMIWOPkm6tR1zXE5onB6cnn"
    },
    "kernelspec": {
      "name": "python3",
      "display_name": "Python 3"
    },
    "language_info": {
      "name": "python"
    }
  },
  "cells": [
    {
      "cell_type": "markdown",
      "source": [
        "**136. Single Number**\n",
        "\n",
        "Given a non-empty array of integers nums, every element appears twice except for one. Find that single one.\n",
        "\n",
        "You must implement a solution with a linear runtime complexity and use only constant extra space."
      ],
      "metadata": {
        "id": "E_xa0V7Fm3Tp"
      }
    },
    {
      "cell_type": "code",
      "source": [
        "class Solution:\n",
        "    def singleNumber(self, nums: List[int]) -> int:\n",
        "        l=len(nums)\n",
        "        nums.sort()\n",
        "        for i in range(0,l//2):\n",
        "            if nums[2*i]!= nums[(2*i)+1]:\n",
        "                return nums[2*i]\n",
        "        return nums[-1]"
      ],
      "metadata": {
        "id": "tt2hhbMpnBP0"
      },
      "execution_count": null,
      "outputs": []
    }
  ]
}