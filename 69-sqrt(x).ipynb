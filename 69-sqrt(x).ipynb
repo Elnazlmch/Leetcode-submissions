{
  "nbformat": 4,
  "nbformat_minor": 0,
  "metadata": {
    "colab": {
      "provenance": [],
      "authorship_tag": "ABX9TyPFdwBEWuEdCHSJjLL+ZWqq"
    },
    "kernelspec": {
      "name": "python3",
      "display_name": "Python 3"
    },
    "language_info": {
      "name": "python"
    }
  },
  "cells": [
    {
      "cell_type": "markdown",
      "source": [
        "**69. Sqrt(x)**\n",
        "\n",
        "Given a non-negative integer x, return the square root of x rounded down to the nearest integer. The returned integer should be non-negative as well.\n",
        "\n",
        "You must not use any built-in exponent function or operator.\n",
        "\n",
        "For example, do not use pow(x, 0.5) in c++ or x ** 0.5 in python."
      ],
      "metadata": {
        "id": "s5my3v-qJq_F"
      }
    },
    {
      "cell_type": "code",
      "source": [
        "class Solution:\n",
        "    def mySqrt(self, x: int) -> int:\n",
        "        if x == 0:\n",
        "            return 0\n",
        "        left, right = 1, x\n",
        "        result = 0\n",
        "        while left <= right:\n",
        "            middle = (left + right) // 2\n",
        "            squared = middle * middle\n",
        "\n",
        "            if squared == x:\n",
        "                return middle\n",
        "            elif squared < x:\n",
        "                result = middle\n",
        "                left = middle + 1\n",
        "            else:\n",
        "                right = middle-1\n",
        "\n",
        "        return result\n",
        ""
      ],
      "metadata": {
        "id": "-0WFKtVmJ3aK"
      },
      "execution_count": 2,
      "outputs": []
    }
  ]
}