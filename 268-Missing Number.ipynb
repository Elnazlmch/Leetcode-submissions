{
  "nbformat": 4,
  "nbformat_minor": 0,
  "metadata": {
    "colab": {
      "provenance": [],
      "authorship_tag": "ABX9TyO6nH3dmzK6FxAQQXJZezLA"
    },
    "kernelspec": {
      "name": "python3",
      "display_name": "Python 3"
    },
    "language_info": {
      "name": "python"
    }
  },
  "cells": [
    {
      "cell_type": "markdown",
      "source": [
        "**268. Missing Number**\n",
        "\n",
        "Given an array nums containing n distinct numbers in the range [0, n], return the only number in the range that is missing from the array."
      ],
      "metadata": {
        "id": "Eq1jAZSXFe1n"
      }
    },
    {
      "cell_type": "code",
      "source": [
        "class Solution:\n",
        "    def missingNumber(self, nums: List[int]) -> int:\n",
        "        nums.sort()\n",
        "        l = len(nums)\n",
        "        if nums[0] != 0:\n",
        "            return 0\n",
        "        else:\n",
        "            for i in range(0, l-1):\n",
        "                if nums[i+1] != nums[i] + 1:\n",
        "                    return nums[i] + 1\n",
        "        return nums[l-1] + 1"
      ],
      "metadata": {
        "id": "n9Oyt7BuHsN8"
      },
      "execution_count": null,
      "outputs": []
    }
  ]
}