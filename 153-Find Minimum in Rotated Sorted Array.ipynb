{
  "nbformat": 4,
  "nbformat_minor": 0,
  "metadata": {
    "colab": {
      "provenance": [],
      "authorship_tag": "ABX9TyP/Wv1Bn4Y899EFPh65B8zD"
    },
    "kernelspec": {
      "name": "python3",
      "display_name": "Python 3"
    },
    "language_info": {
      "name": "python"
    }
  },
  "cells": [
    {
      "cell_type": "markdown",
      "source": [
        "**153. Find Minimum in Rotated Sorted Array**\n",
        "\n",
        "Suppose an array of length n sorted in ascending order is rotated between 1 and n times. For example, the array nums = [0,1,2,4,5,6,7] might become:\n",
        "\n",
        "[4,5,6,7,0,1,2] if it was rotated 4 times.\n",
        "[0,1,2,4,5,6,7] if it was rotated 7 times.\n",
        "Notice that rotating an array [a[0], a[1], a[2], ..., a[n-1]] 1 time results in the array [a[n-1], a[0], a[1], a[2], ..., a[n-2]].\n",
        "\n",
        "Given the sorted rotated array nums of unique elements, return the minimum element of this array.\n",
        "\n",
        "You must write an algorithm that runs in O(log n) time."
      ],
      "metadata": {
        "id": "Eq1jAZSXFe1n"
      }
    },
    {
      "cell_type": "code",
      "source": [
        "class Solution:\n",
        "    def findMin(self, nums: List[int]) -> int:\n",
        "\n",
        "        result = nums[0]\n",
        "\n",
        "        left, right = 0, len(nums) - 1\n",
        "\n",
        "\n",
        "        if nums[left] < nums[right]:\n",
        "            return nums[left]\n",
        "\n",
        "\n",
        "        while left <= right:\n",
        "\n",
        "            if nums[left] < nums[right]:\n",
        "                result = min(result, nums[left])\n",
        "                break\n",
        "\n",
        "\n",
        "            mid = (left + right) // 2\n",
        "\n",
        "            result = min(result, nums[mid])\n",
        "\n",
        "\n",
        "            if nums[mid] >= nums[left]:\n",
        "\n",
        "                left = mid + 1\n",
        "            else:\n",
        "\n",
        "                right = mid - 1\n",
        "\n",
        "\n",
        "        return result"
      ],
      "metadata": {
        "id": "oOGJcSHKFyOj"
      },
      "execution_count": null,
      "outputs": []
    }
  ]
}