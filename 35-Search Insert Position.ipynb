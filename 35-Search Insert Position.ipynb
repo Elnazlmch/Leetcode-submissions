{
  "nbformat": 4,
  "nbformat_minor": 0,
  "metadata": {
    "colab": {
      "provenance": [],
      "authorship_tag": "ABX9TyMu9YjMo7H/MbyOeJLInAr6"
    },
    "kernelspec": {
      "name": "python3",
      "display_name": "Python 3"
    },
    "language_info": {
      "name": "python"
    }
  },
  "cells": [
    {
      "cell_type": "markdown",
      "source": [
        "**35. Search Insert Position**\n",
        "\n",
        "Given a sorted array of distinct integers and a target value, return the index if the target is found. If not, return the index where it would be if it were inserted in order.\n",
        "\n",
        "You must write an algorithm with O(log n) runtime complexity."
      ],
      "metadata": {
        "id": "9tYHlICaALFW"
      }
    },
    {
      "cell_type": "code",
      "source": [
        "class Solution:\n",
        "    def searchInsert(self, nums: List[int], target: int) -> int:\n",
        "        left,right=0,len(nums)-1\n",
        "        while left<=right:\n",
        "            middle=left+(right-left)//2\n",
        "            if nums[middle]==target:\n",
        "                return middle\n",
        "            if nums[middle]<target:\n",
        "                left=middle+1\n",
        "            if nums[middle]>target:\n",
        "                right=middle-1\n",
        "            if left>right:\n",
        "                return left"
      ],
      "metadata": {
        "id": "3Z2E6F_kArvy"
      },
      "execution_count": null,
      "outputs": []
    }
  ]
}